{
 "cells": [
  {
   "cell_type": "code",
   "execution_count": 1,
   "id": "4b5e6df8-bcde-4c53-a082-3eaabe1ca7a7",
   "metadata": {},
   "outputs": [],
   "source": [
    "import numpy as np"
   ]
  },
  {
   "cell_type": "markdown",
   "id": "5e5cb945-bba6-4b4a-8869-348ce725d7e1",
   "metadata": {},
   "source": [
    "# Array Creation"
   ]
  },
  {
   "cell_type": "markdown",
   "id": "a446a948-7429-4a73-b3ee-60a75f9bcf1f",
   "metadata": {},
   "source": [
    "### Create a 1-dimensional array of integers from 1 to 10"
   ]
  },
  {
   "cell_type": "code",
   "execution_count": 2,
   "id": "f1c88772-c3a4-444d-baee-884bd1dd09a5",
   "metadata": {},
   "outputs": [
    {
     "data": {
      "text/plain": [
       "array([ 1,  2,  3,  4,  5,  6,  7,  8,  9, 10])"
      ]
     },
     "execution_count": 2,
     "metadata": {},
     "output_type": "execute_result"
    }
   ],
   "source": [
    "a = np.arange(1,11)\n",
    "a"
   ]
  },
  {
   "cell_type": "markdown",
   "id": "64f5b9bb-f0c0-4079-833f-f53b3356c23d",
   "metadata": {},
   "source": [
    "### Create a 2-dimensional array with random float values of shape (3,4)"
   ]
  },
  {
   "cell_type": "code",
   "execution_count": 3,
   "id": "9a07c3e2-0d0c-48e7-8501-7a9a86873854",
   "metadata": {},
   "outputs": [
    {
     "data": {
      "text/plain": [
       "array([[0.80727412, 0.56723298, 0.90484366, 0.78842132],\n",
       "       [0.58033956, 0.5207747 , 0.88376987, 0.05523726],\n",
       "       [0.14130226, 0.39434681, 0.47610848, 0.98808416]])"
      ]
     },
     "execution_count": 3,
     "metadata": {},
     "output_type": "execute_result"
    }
   ],
   "source": [
    "b = np.random.rand(3,4)\n",
    "b"
   ]
  },
  {
   "cell_type": "markdown",
   "id": "6f2a788c-2f1c-4ec1-a225-9769db1e9632",
   "metadata": {},
   "source": [
    "### Create a 3-dimensional array of zeros wiht shape (2,3,4)"
   ]
  },
  {
   "cell_type": "code",
   "execution_count": 4,
   "id": "ef0ed64f-4b41-4292-a5cf-f1f1cb7e07e9",
   "metadata": {},
   "outputs": [
    {
     "data": {
      "text/plain": [
       "array([[[0, 0, 0, 0],\n",
       "        [0, 0, 0, 0],\n",
       "        [0, 0, 0, 0]],\n",
       "\n",
       "       [[0, 0, 0, 0],\n",
       "        [0, 0, 0, 0],\n",
       "        [0, 0, 0, 0]]])"
      ]
     },
     "execution_count": 4,
     "metadata": {},
     "output_type": "execute_result"
    }
   ],
   "source": [
    "c = np.zeros((2,3,4), dtype=int)\n",
    "c"
   ]
  },
  {
   "cell_type": "markdown",
   "id": "9b4cc9c9-b3cf-47e5-8888-ed7ce165dfa4",
   "metadata": {},
   "source": [
    "# Array Operations"
   ]
  },
  {
   "cell_type": "markdown",
   "id": "d22fea3b-02c2-430c-b531-08fff9577af9",
   "metadata": {},
   "source": [
    "### Given two 1- dimensional arrays, perform element-wise addition, subtraction, multiplication and division"
   ]
  },
  {
   "cell_type": "code",
   "execution_count": 5,
   "id": "640ccf60-e03d-417a-8fa3-bf29bfae0772",
   "metadata": {},
   "outputs": [],
   "source": [
    "a = np.arange(10,40,10)\n",
    "b = np.arange(1,4)"
   ]
  },
  {
   "cell_type": "code",
   "execution_count": 6,
   "id": "e5ecb08c-4c60-4ab1-b0eb-fc4a542c223c",
   "metadata": {},
   "outputs": [
    {
     "data": {
      "text/plain": [
       "array([11, 22, 33])"
      ]
     },
     "execution_count": 6,
     "metadata": {},
     "output_type": "execute_result"
    }
   ],
   "source": [
    "add = a+b\n",
    "add"
   ]
  },
  {
   "cell_type": "code",
   "execution_count": 7,
   "id": "51cced1a-0088-41f3-aff8-481a35e80f96",
   "metadata": {},
   "outputs": [
    {
     "data": {
      "text/plain": [
       "array([ 9, 18, 27])"
      ]
     },
     "execution_count": 7,
     "metadata": {},
     "output_type": "execute_result"
    }
   ],
   "source": [
    "sub = a-b\n",
    "sub"
   ]
  },
  {
   "cell_type": "code",
   "execution_count": 8,
   "id": "b575ead2-367f-4701-9a6a-ffd919584a8d",
   "metadata": {},
   "outputs": [
    {
     "data": {
      "text/plain": [
       "array([10, 40, 90])"
      ]
     },
     "execution_count": 8,
     "metadata": {},
     "output_type": "execute_result"
    }
   ],
   "source": [
    "mul = a*b\n",
    "mul"
   ]
  },
  {
   "cell_type": "code",
   "execution_count": 9,
   "id": "2375df76-e4ff-4df9-998d-2158894e4dab",
   "metadata": {},
   "outputs": [
    {
     "data": {
      "text/plain": [
       "array([10., 10., 10.])"
      ]
     },
     "execution_count": 9,
     "metadata": {},
     "output_type": "execute_result"
    }
   ],
   "source": [
    "div = a/b\n",
    "div"
   ]
  },
  {
   "cell_type": "markdown",
   "id": "576d4ccf-4463-4e84-8e7d-d4357513e05d",
   "metadata": {},
   "source": [
    "### Calculate mean, median, and standard deviation of given 1-dimensional array"
   ]
  },
  {
   "cell_type": "code",
   "execution_count": 10,
   "id": "df05eafa-5ab9-43b9-9302-76618eba1d32",
   "metadata": {},
   "outputs": [
    {
     "data": {
      "text/plain": [
       "array([0.40152212, 0.91938455, 0.45546883, 0.54853579, 0.81705485,\n",
       "       0.87830194, 0.55762045])"
      ]
     },
     "execution_count": 10,
     "metadata": {},
     "output_type": "execute_result"
    }
   ],
   "source": [
    "c = np.random.rand(7)\n",
    "c"
   ]
  },
  {
   "cell_type": "code",
   "execution_count": 11,
   "id": "a0b21cab-ca86-4ee4-965f-19f712a97e8b",
   "metadata": {},
   "outputs": [
    {
     "data": {
      "text/plain": [
       "0.6539840760711194"
      ]
     },
     "execution_count": 11,
     "metadata": {},
     "output_type": "execute_result"
    }
   ],
   "source": [
    "mean = np.mean(c)\n",
    "mean"
   ]
  },
  {
   "cell_type": "code",
   "execution_count": 12,
   "id": "b660f081-1706-41fc-a9a9-7738c1229e5e",
   "metadata": {},
   "outputs": [
    {
     "data": {
      "text/plain": [
       "0.5576204499453495"
      ]
     },
     "execution_count": 12,
     "metadata": {},
     "output_type": "execute_result"
    }
   ],
   "source": [
    "median = np.median(c)\n",
    "median"
   ]
  },
  {
   "cell_type": "code",
   "execution_count": 13,
   "id": "5265885f-f2e5-4cc1-95e7-c46abaea1174",
   "metadata": {},
   "outputs": [
    {
     "data": {
      "text/plain": [
       "0.19672265611546372"
      ]
     },
     "execution_count": 13,
     "metadata": {},
     "output_type": "execute_result"
    }
   ],
   "source": [
    "std = np.std(c)\n",
    "std"
   ]
  },
  {
   "cell_type": "markdown",
   "id": "841c5e30-df1c-448b-972a-3cab5569c6e0",
   "metadata": {},
   "source": [
    "### Reshape a 1-dimensional array into a 2-dimensional array of shape(3,4)"
   ]
  },
  {
   "cell_type": "code",
   "execution_count": 14,
   "id": "116dd2d4-b6f6-459a-8423-b8bb5fb20a3b",
   "metadata": {},
   "outputs": [
    {
     "data": {
      "text/plain": [
       "array([ 0,  1,  2,  3,  4,  5,  6,  7,  8,  9, 10, 11])"
      ]
     },
     "execution_count": 14,
     "metadata": {},
     "output_type": "execute_result"
    }
   ],
   "source": [
    "d = np.arange(12)\n",
    "d"
   ]
  },
  {
   "cell_type": "code",
   "execution_count": 15,
   "id": "4d54424d-c67a-4fb5-bcc9-9c59647b5c74",
   "metadata": {},
   "outputs": [
    {
     "data": {
      "text/plain": [
       "array([[ 0,  1,  2,  3],\n",
       "       [ 4,  5,  6,  7],\n",
       "       [ 8,  9, 10, 11]])"
      ]
     },
     "execution_count": 15,
     "metadata": {},
     "output_type": "execute_result"
    }
   ],
   "source": [
    "new_d = d.reshape(3,4)\n",
    "new_d"
   ]
  },
  {
   "cell_type": "markdown",
   "id": "361800b0-c501-41cd-9cbb-e07d8a0cae96",
   "metadata": {},
   "source": [
    "# Array Indexing and Slicing"
   ]
  },
  {
   "cell_type": "markdown",
   "id": "2b938136-2744-4300-87b3-61e543ca298b",
   "metadata": {},
   "source": [
    "### Extract fist row and last column of 2-dimensional array"
   ]
  },
  {
   "cell_type": "code",
   "execution_count": 16,
   "id": "5d56d5dd-ef07-4e22-96e4-bf6e33437188",
   "metadata": {},
   "outputs": [
    {
     "data": {
      "text/plain": [
       "array([[ 1, 11, 22, 33, 44],\n",
       "       [55, 66, 77, 88, 99]])"
      ]
     },
     "execution_count": 16,
     "metadata": {},
     "output_type": "execute_result"
    }
   ],
   "source": [
    "a = np.linspace(1,99,10, dtype=int).reshape(2,5)\n",
    "a"
   ]
  },
  {
   "cell_type": "code",
   "execution_count": 17,
   "id": "8433221d-0066-44c7-bdec-6e47a9a80b41",
   "metadata": {},
   "outputs": [
    {
     "data": {
      "text/plain": [
       "array([ 1, 11, 22, 33, 44])"
      ]
     },
     "execution_count": 17,
     "metadata": {},
     "output_type": "execute_result"
    }
   ],
   "source": [
    "first_row = a[0,:]\n",
    "first_row"
   ]
  },
  {
   "cell_type": "code",
   "execution_count": 18,
   "id": "c2ee7535-2da2-4bf7-aa33-9cfe73963cb7",
   "metadata": {},
   "outputs": [
    {
     "data": {
      "text/plain": [
       "array([44, 99])"
      ]
     },
     "execution_count": 18,
     "metadata": {},
     "output_type": "execute_result"
    }
   ],
   "source": [
    "last_column = a[:,-1]\n",
    "last_column"
   ]
  },
  {
   "cell_type": "markdown",
   "id": "9ff39b51-7079-4c40-bcab-96b7739249d7",
   "metadata": {},
   "source": [
    "### Reverse the order of elements in a 1-dimensional array"
   ]
  },
  {
   "cell_type": "code",
   "execution_count": 19,
   "id": "d4bfa572-fe92-4bb0-bd8b-ba7e262638a4",
   "metadata": {},
   "outputs": [
    {
     "data": {
      "text/plain": [
       "array([0, 1, 2, 3, 4])"
      ]
     },
     "execution_count": 19,
     "metadata": {},
     "output_type": "execute_result"
    }
   ],
   "source": [
    "b = np.arange(5)\n",
    "b"
   ]
  },
  {
   "cell_type": "code",
   "execution_count": 20,
   "id": "67d2d9bd-c3cc-4793-98ed-60dcf1d32ca4",
   "metadata": {},
   "outputs": [
    {
     "data": {
      "text/plain": [
       "array([4, 3, 2, 1, 0])"
      ]
     },
     "execution_count": 20,
     "metadata": {},
     "output_type": "execute_result"
    }
   ],
   "source": [
    "rev_b = np.flip(b)\n",
    "rev_b"
   ]
  },
  {
   "cell_type": "markdown",
   "id": "01b12d59-63a3-43a8-84a5-9df6a7017a0f",
   "metadata": {},
   "source": [
    "### Select elements from a 2- dimensional array that satisfy a specific condition(Values greater than a certain threshold)"
   ]
  },
  {
   "cell_type": "code",
   "execution_count": 21,
   "id": "b81c73da-cfc0-45b6-a054-e85af8732d68",
   "metadata": {},
   "outputs": [
    {
     "data": {
      "text/plain": [
       "array([[  1,   6,  11,  16,  21,  27,  32,  37,  42,  47],\n",
       "       [ 53,  58,  63,  68,  73,  79,  84,  89,  94, 100]])"
      ]
     },
     "execution_count": 21,
     "metadata": {},
     "output_type": "execute_result"
    }
   ],
   "source": [
    "c = np .linspace(1,100,20,dtype=int).reshape(2,-1)\n",
    "c"
   ]
  },
  {
   "cell_type": "code",
   "execution_count": 22,
   "id": "9ffa8f04-03fb-4a16-96a1-96ddb4a51728",
   "metadata": {},
   "outputs": [
    {
     "data": {
      "text/plain": [
       "array([[  0,   6,   0,  16,   0,   0,  32,   0,  42,   0],\n",
       "       [  0,  58,   0,  68,   0,   0,  84,   0,  94, 100]])"
      ]
     },
     "execution_count": 22,
     "metadata": {},
     "output_type": "execute_result"
    }
   ],
   "source": [
    "new_c = np.where(c%2==0,c,0)\n",
    "new_c"
   ]
  },
  {
   "cell_type": "markdown",
   "id": "af5d4be3-5e94-4a1d-b215-96648edfd0aa",
   "metadata": {},
   "source": [
    "# Array Broadcasting"
   ]
  },
  {
   "cell_type": "markdown",
   "id": "e7ca227b-182a-4431-899f-8d3977337194",
   "metadata": {},
   "source": [
    "### Add scalar value to each elements of 2-dimensional array"
   ]
  },
  {
   "cell_type": "code",
   "execution_count": 23,
   "id": "9890b557-6202-4f64-9a9e-d71aed975be8",
   "metadata": {},
   "outputs": [
    {
     "data": {
      "text/plain": [
       "array([[ 1,  6, 11, 16, 21, 26, 31, 37, 42, 47],\n",
       "       [52, 57, 62, 68, 73, 78, 83, 88, 93, 99]])"
      ]
     },
     "execution_count": 23,
     "metadata": {},
     "output_type": "execute_result"
    }
   ],
   "source": [
    "a = 100\n",
    "b= np.linspace(1,99,20,dtype=int).reshape(2,-1)\n",
    "b"
   ]
  },
  {
   "cell_type": "code",
   "execution_count": 24,
   "id": "f986b1bf-df97-455f-97a4-d43f3585d9bc",
   "metadata": {},
   "outputs": [
    {
     "data": {
      "text/plain": [
       "array([[101, 106, 111, 116, 121, 126, 131, 137, 142, 147],\n",
       "       [152, 157, 162, 168, 173, 178, 183, 188, 193, 199]])"
      ]
     },
     "execution_count": 24,
     "metadata": {},
     "output_type": "execute_result"
    }
   ],
   "source": [
    "c = a+b\n",
    "c"
   ]
  },
  {
   "cell_type": "markdown",
   "id": "40a61e31-cf0c-4993-b5dc-5ed19d393003",
   "metadata": {},
   "source": [
    "### Multiply 1-dimensional array with a 2-dimensional array, leveraging NumPy's broadcasting rules"
   ]
  },
  {
   "cell_type": "code",
   "execution_count": 25,
   "id": "bf65c475-6887-45a1-9b5e-4ed68b07355a",
   "metadata": {},
   "outputs": [
    {
     "data": {
      "text/plain": [
       "array([0, 1, 2, 3, 4])"
      ]
     },
     "execution_count": 25,
     "metadata": {},
     "output_type": "execute_result"
    }
   ],
   "source": [
    "d = np.arange(5)\n",
    "d"
   ]
  },
  {
   "cell_type": "code",
   "execution_count": 26,
   "id": "7b1da33f-644c-4361-b305-82f9b0f52b5c",
   "metadata": {},
   "outputs": [
    {
     "data": {
      "text/plain": [
       "array([[ 10,  20,  30,  40,  50],\n",
       "       [ 60,  70,  80,  90, 100]])"
      ]
     },
     "execution_count": 26,
     "metadata": {},
     "output_type": "execute_result"
    }
   ],
   "source": [
    "e = np.linspace(10,100,10,dtype=int).reshape(2,5)\n",
    "e"
   ]
  },
  {
   "cell_type": "code",
   "execution_count": 27,
   "id": "5a1f42fa-ba01-4dcb-aa24-45e569d2b000",
   "metadata": {},
   "outputs": [
    {
     "data": {
      "text/plain": [
       "array([[  0,  20,  60, 120, 200],\n",
       "       [  0,  70, 160, 270, 400]])"
      ]
     },
     "execution_count": 27,
     "metadata": {},
     "output_type": "execute_result"
    }
   ],
   "source": [
    "f = d * e\n",
    "f"
   ]
  },
  {
   "cell_type": "markdown",
   "id": "c585ac47-0eba-40eb-b186-77de07d8d6e7",
   "metadata": {},
   "source": [
    "# Linear Algebra"
   ]
  },
  {
   "cell_type": "markdown",
   "id": "37835949-7414-42d2-adbc-b04b922c6100",
   "metadata": {},
   "source": [
    "### Calculate the dot product of two 1-dimensioanal arrays"
   ]
  },
  {
   "cell_type": "code",
   "execution_count": 28,
   "id": "31ceae8a-067c-4984-ab92-6e0d8b4127fc",
   "metadata": {},
   "outputs": [
    {
     "data": {
      "text/plain": [
       "array([1, 2, 3, 4])"
      ]
     },
     "execution_count": 28,
     "metadata": {},
     "output_type": "execute_result"
    }
   ],
   "source": [
    "a = np.arange(1,5)\n",
    "a"
   ]
  },
  {
   "cell_type": "code",
   "execution_count": 29,
   "id": "89e25d81-81a4-4a24-b05f-1f771d787d51",
   "metadata": {},
   "outputs": [
    {
     "data": {
      "text/plain": [
       "array([10, 20, 30, 40])"
      ]
     },
     "execution_count": 29,
     "metadata": {},
     "output_type": "execute_result"
    }
   ],
   "source": [
    "b = np.arange(10,50,10)\n",
    "b"
   ]
  },
  {
   "cell_type": "code",
   "execution_count": 30,
   "id": "b6f3103a-07bb-487d-9d6d-68ee5383048d",
   "metadata": {},
   "outputs": [
    {
     "data": {
      "text/plain": [
       "300"
      ]
     },
     "execution_count": 30,
     "metadata": {},
     "output_type": "execute_result"
    }
   ],
   "source": [
    "c=a.dot(b)\n",
    "c"
   ]
  },
  {
   "cell_type": "markdown",
   "id": "b00f3e15-625d-4d75-958f-a9aac00004ef",
   "metadata": {},
   "source": [
    "### Calculate the matrix multiplication of two 2-dimensional arrays"
   ]
  },
  {
   "cell_type": "code",
   "execution_count": 31,
   "id": "a4173835-b0b6-4304-98df-8e82296f8c35",
   "metadata": {},
   "outputs": [
    {
     "data": {
      "text/plain": [
       "array([[ 1,  4],\n",
       "       [ 7, 10]])"
      ]
     },
     "execution_count": 31,
     "metadata": {},
     "output_type": "execute_result"
    }
   ],
   "source": [
    "a = np.linspace(1,10,4,dtype=int).reshape(2,2)\n",
    "a"
   ]
  },
  {
   "cell_type": "code",
   "execution_count": 32,
   "id": "bc1f17b8-fa78-440f-9d9a-5e06bc2cb879",
   "metadata": {},
   "outputs": [
    {
     "data": {
      "text/plain": [
       "array([[11, 14],\n",
       "       [17, 20]])"
      ]
     },
     "execution_count": 32,
     "metadata": {},
     "output_type": "execute_result"
    }
   ],
   "source": [
    "b = np.linspace(11,20,4,dtype=int).reshape(2,2)\n",
    "b"
   ]
  },
  {
   "cell_type": "code",
   "execution_count": 33,
   "id": "7dafc4f8-14c9-400e-9d1a-a8993c2de6c7",
   "metadata": {},
   "outputs": [
    {
     "data": {
      "text/plain": [
       "array([[ 79,  94],\n",
       "       [247, 298]])"
      ]
     },
     "execution_count": 33,
     "metadata": {},
     "output_type": "execute_result"
    }
   ],
   "source": [
    "c=np.matmul(a,b)\n",
    "c"
   ]
  },
  {
   "cell_type": "markdown",
   "id": "88e9d15a-4bbf-435a-ac6d-8b489b1e69fb",
   "metadata": {},
   "source": [
    "### Find the inverse and determinant of a square matrix"
   ]
  },
  {
   "cell_type": "code",
   "execution_count": 34,
   "id": "d3d8294a-6ab1-4e66-8953-1e225697c5b3",
   "metadata": {},
   "outputs": [
    {
     "data": {
      "text/plain": [
       "matrix([[1, 2],\n",
       "        [3, 4]])"
      ]
     },
     "execution_count": 34,
     "metadata": {},
     "output_type": "execute_result"
    }
   ],
   "source": [
    "mat = np.matrix('1,2;3,4')\n",
    "mat"
   ]
  },
  {
   "cell_type": "code",
   "execution_count": 35,
   "id": "2ba33ca0-49b9-4ac1-810f-ca53daf1dffb",
   "metadata": {},
   "outputs": [
    {
     "data": {
      "text/plain": [
       "matrix([[-2. ,  1. ],\n",
       "        [ 1.5, -0.5]])"
      ]
     },
     "execution_count": 35,
     "metadata": {},
     "output_type": "execute_result"
    }
   ],
   "source": [
    "mat.getI()"
   ]
  },
  {
   "cell_type": "code",
   "execution_count": 36,
   "id": "c76699cd-b7d3-496a-8da0-66c2ed30c9a4",
   "metadata": {},
   "outputs": [
    {
     "data": {
      "text/plain": [
       "-2.0000000000000004"
      ]
     },
     "execution_count": 36,
     "metadata": {},
     "output_type": "execute_result"
    }
   ],
   "source": [
    "np.linalg.det(mat)"
   ]
  }
 ],
 "metadata": {
  "kernelspec": {
   "display_name": "Python 3 (ipykernel)",
   "language": "python",
   "name": "python3"
  },
  "language_info": {
   "codemirror_mode": {
    "name": "ipython",
    "version": 3
   },
   "file_extension": ".py",
   "mimetype": "text/x-python",
   "name": "python",
   "nbconvert_exporter": "python",
   "pygments_lexer": "ipython3",
   "version": "3.12.1"
  }
 },
 "nbformat": 4,
 "nbformat_minor": 5
}
